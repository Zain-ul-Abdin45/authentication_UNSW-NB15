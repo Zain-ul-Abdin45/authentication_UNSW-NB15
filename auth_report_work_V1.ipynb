{
 "cells": [
  {
   "cell_type": "code",
   "execution_count": 39,
   "id": "f10f94d3-e7cc-4384-a8e3-f07a8de5372a",
   "metadata": {},
   "outputs": [],
   "source": [
    "from sklearn.svm import SVC, LinearSVC"
   ]
  },
  {
   "cell_type": "code",
   "execution_count": 1,
   "id": "d893f1aa-2ab9-45ef-8e53-a438e1f21b60",
   "metadata": {},
   "outputs": [],
   "source": [
    "import pandas as pd\n",
    "import numpy as np\n",
    "import time\n",
    "from datetime import datetime\n",
    "import matplotlib.pyplot as plt\n",
    "import seaborn as sns\n",
    "from sklearn.model_selection import train_test_split, cross_val_score, StratifiedKFold, GridSearchCV\n",
    "from sklearn.preprocessing import StandardScaler, MinMaxScaler, LabelEncoder, RobustScaler\n",
    "from sklearn.feature_selection import SelectKBest, f_classif, mutual_info_classif, RFE, SelectFromModel\n",
    "from sklearn.decomposition import PCA, FastICA\n",
    "from sklearn.manifold import TSNE\n",
    "from sklearn.svm import SVC, LinearSVC\n",
    "from sklearn.neighbors import KNeighborsClassifier\n",
    "from sklearn.naive_bayes import GaussianNB\n",
    "from sklearn.discriminant_analysis import LinearDiscriminantAnalysis, QuadraticDiscriminantAnalysis\n",
    "from sklearn.neighbors import NearestCentroid\n",
    "from sklearn.ensemble import RandomForestClassifier, ExtraTreesClassifier, GradientBoostingClassifier\n",
    "from sklearn.tree import DecisionTreeClassifier\n",
    "from sklearn.linear_model import LogisticRegression\n",
    "from sklearn.metrics import (accuracy_score, precision_score, recall_score, f1_score, \n",
    "                           roc_auc_score, classification_report, confusion_matrix, roc_curve)\n",
    "from sklearn.utils import resample\n",
    "import warnings\n",
    "warnings.filterwarnings('ignore')\n"
   ]
  },
  {
   "cell_type": "code",
   "execution_count": 2,
   "id": "b7ae2cdb-259f-4b95-aed7-8375625a3755",
   "metadata": {},
   "outputs": [],
   "source": [
    "results = []\n",
    "processed_data = {}\n",
    "feature_importance_data = {}"
   ]
  },
  {
   "cell_type": "code",
   "execution_count": 3,
   "id": "d2c778c1-75db-4160-b166-f1ffd535d93a",
   "metadata": {},
   "outputs": [],
   "source": [
    "# Reading UNSW Training and Testing Dataset\n",
    "train_path = \"/Users/kashifali/Documents/Semester-1/Authentication/Report Work/CSV Files/Training and Testing Sets/UNSW_NB15_training-set.csv\"\n",
    "test_path = \"/Users/kashifali/Documents/Semester-1/Authentication/Report Work/CSV Files/Training and Testing Sets/UNSW_NB15_testing-set.csv\"\n",
    "train_data = pd.read_csv(train_path)\n",
    "test_data = pd.read_csv(test_path)"
   ]
  },
  {
   "cell_type": "code",
   "execution_count": 4,
   "id": "7e45011b-cbae-47dd-8b55-f1c672a573e2",
   "metadata": {},
   "outputs": [
    {
     "name": "stdout",
     "output_type": "stream",
     "text": [
      "Training set size: (175341, 45)\n",
      "Training set size: (82332, 45)\n"
     ]
    }
   ],
   "source": [
    "print(f\"Training set size: {train_data.shape}\")\n",
    "print(f\"Training set size: {test_data.shape}\")"
   ]
  },
  {
   "cell_type": "code",
   "execution_count": 5,
   "id": "4d325526-7cc0-4818-96d8-f60880ef624f",
   "metadata": {},
   "outputs": [
    {
     "name": "stdout",
     "output_type": "stream",
     "text": [
      "Total samples: 257673\n"
     ]
    }
   ],
   "source": [
    "print(f\"Total samples: {train_data.shape[0] + test_data.shape[0]}\")"
   ]
  },
  {
   "cell_type": "code",
   "execution_count": 6,
   "id": "55ce8c1c-2377-40ae-984f-406609e9e5e4",
   "metadata": {},
   "outputs": [],
   "source": [
    "df_combined = pd.concat([train_data, test_data], ignore_index=True)"
   ]
  },
  {
   "cell_type": "code",
   "execution_count": 7,
   "id": "f0166467-4400-4f96-97bb-b362cfa39cc2",
   "metadata": {},
   "outputs": [
    {
     "name": "stdout",
     "output_type": "stream",
     "text": [
      "Combined dataset shape: (257673, 45)\n"
     ]
    }
   ],
   "source": [
    "print(f\"Combined dataset shape: {df_combined.shape}\")"
   ]
  },
  {
   "cell_type": "code",
   "execution_count": 8,
   "id": "4d118475-3536-4667-b2fd-e5c0d8e94053",
   "metadata": {},
   "outputs": [
    {
     "name": "stdout",
     "output_type": "stream",
     "text": [
      "Total Features : 45\n",
      "Memory usage: 140.39 MB\n",
      "Column Names: \n",
      "['id', 'dur', 'proto', 'service', 'state', 'spkts', 'dpkts', 'sbytes', 'dbytes', 'rate', 'sttl', 'dttl', 'sload', 'dload', 'sloss', 'dloss', 'sinpkt', 'dinpkt', 'sjit', 'djit', 'swin', 'stcpb', 'dtcpb', 'dwin', 'tcprtt', 'synack', 'ackdat', 'smean', 'dmean', 'trans_depth', 'response_body_len', 'ct_srv_src', 'ct_state_ttl', 'ct_dst_ltm', 'ct_src_dport_ltm', 'ct_dst_sport_ltm', 'ct_dst_src_ltm', 'is_ftp_login', 'ct_ftp_cmd', 'ct_flw_http_mthd', 'ct_src_ltm', 'ct_srv_dst', 'is_sm_ips_ports', 'attack_cat', 'label']\n",
      "Data Types: \n",
      "int64      30\n",
      "float64    11\n",
      "object      4\n",
      "Name: count, dtype: int64\n"
     ]
    }
   ],
   "source": [
    "# Combined Dataset Overview\n",
    "print(f\"Total Features : {df_combined.shape[1]}\")\n",
    "print(f\"Memory usage: {df_combined.memory_usage(deep=True).sum()/1024**2:.2f} MB\")\n",
    "print(f\"Column Names: \\n{df_combined.columns.tolist()}\")\n",
    "print(f\"Data Types: \\n{df_combined.dtypes.value_counts()}\")"
   ]
  },
  {
   "cell_type": "code",
   "execution_count": 9,
   "id": "2c17925f-c702-4df2-968f-17ee2fdcde5e",
   "metadata": {},
   "outputs": [
    {
     "name": "stdout",
     "output_type": "stream",
     "text": [
      "No missing values found in Dataframe.\n"
     ]
    }
   ],
   "source": [
    "# Detailed Data Exploration and Quality Assessment\n",
    "missing_data = df_combined.isnull().sum()\n",
    "missing_percent = (missing_data/len(df_combined)) * 100\n",
    "missing_df = pd.DataFrame({\n",
    "    'Column': missing_data.index,\n",
    "    'Missing_Count': missing_data.values,\n",
    "    'Missing_Percentage': missing_percent.values\n",
    "})\n",
    "missing_df = missing_df[missing_df['Missing_Count']>0].sort_values('Missing_Count', ascending=False)\n",
    "\n",
    "if len(missing_df) > 0:\n",
    "    print(missing_df)\n",
    "else:\n",
    "    print(\"No missing values found in Dataframe.\")"
   ]
  },
  {
   "cell_type": "code",
   "execution_count": 10,
   "id": "1cf4242f-835e-4087-b1f6-12901be8fbf9",
   "metadata": {},
   "outputs": [
    {
     "name": "stdout",
     "output_type": "stream",
     "text": [
      "Target variable distribution: \n",
      "label\n",
      "1    164673\n",
      "0     93000\n",
      "Name: count, dtype: int64\n",
      "Class distribution percentages: \n",
      "label\n",
      "1    63.907744\n",
      "0    36.092256\n",
      "Name: proportion, dtype: float64\n",
      "Attack Distribution Categories\n",
      "attack_cat\n",
      "Normal            93000\n",
      "Generic           58871\n",
      "Exploits          44525\n",
      "Fuzzers           24246\n",
      "DoS               16353\n",
      "Reconnaissance    13987\n",
      "Analysis           2677\n",
      "Backdoor           2329\n",
      "Shellcode          1511\n",
      "Worms               174\n",
      "Name: count, dtype: int64\n"
     ]
    }
   ],
   "source": [
    "# Target Variable analysis\n",
    "if 'label' in df_combined.columns:\n",
    "    print(f\"Target variable distribution: \")\n",
    "    target_counts = df_combined['label'].value_counts()\n",
    "    print(target_counts)\n",
    "    print(\"Class distribution percentages: \")\n",
    "    print(df_combined['label'].value_counts(normalize=True) * 100)\n",
    "\n",
    "    # Attack Category analysis if available\n",
    "    if 'attack_cat' in df_combined.columns:\n",
    "        print(\"Attack Distribution Categories\")\n",
    "        attack_dist = df_combined['attack_cat'].value_counts()\n",
    "        print(attack_dist)"
   ]
  },
  {
   "cell_type": "code",
   "execution_count": 11,
   "id": "e24c0880-3509-437e-8273-09de6e16e86c",
   "metadata": {},
   "outputs": [
    {
     "name": "stdout",
     "output_type": "stream",
     "text": [
      "Numerical feature (41): \n",
      "['id', 'dur', 'spkts', 'dpkts', 'sbytes', 'dbytes', 'rate', 'sttl', 'dttl', 'sload', 'dload', 'sloss', 'dloss', 'sinpkt', 'dinpkt', 'sjit', 'djit', 'swin', 'stcpb', 'dtcpb', 'dwin', 'tcprtt', 'synack', 'ackdat', 'smean', 'dmean', 'trans_depth', 'response_body_len', 'ct_srv_src', 'ct_state_ttl', 'ct_dst_ltm', 'ct_src_dport_ltm', 'ct_dst_sport_ltm', 'ct_dst_src_ltm', 'is_ftp_login', 'ct_ftp_cmd', 'ct_flw_http_mthd', 'ct_src_ltm', 'ct_srv_dst', 'is_sm_ips_ports', 'label']\n"
     ]
    }
   ],
   "source": [
    "# Numberical feature analysis\n",
    "numerical_features = df_combined.select_dtypes(include=[np.number]).columns\n",
    "print(f\"Numerical feature ({len(numerical_features)}): \")\n",
    "print(list(numerical_features))"
   ]
  },
  {
   "cell_type": "code",
   "execution_count": 12,
   "id": "41b7cb4f-2088-44ac-9412-584331e92a3a",
   "metadata": {},
   "outputs": [
    {
     "name": "stdout",
     "output_type": "stream",
     "text": [
      "Statistical Summary of key numerical features:\n",
      "                  id            dur          spkts          dpkts  \\\n",
      "count  257673.000000  257673.000000  257673.000000  257673.000000   \n",
      "mean    72811.823858       1.246715      19.777144      18.514703   \n",
      "std     48929.917641       5.974305     135.947152     111.985965   \n",
      "min         1.000000       0.000000       1.000000       0.000000   \n",
      "25%     32210.000000       0.000008       2.000000       0.000000   \n",
      "50%     64419.000000       0.004285       4.000000       2.000000   \n",
      "75%    110923.000000       0.685777      12.000000      10.000000   \n",
      "max    175341.000000      59.999989   10646.000000   11018.000000   \n",
      "\n",
      "             sbytes        dbytes          rate           sttl           dttl  \\\n",
      "count  2.576730e+05  2.576730e+05  2.576730e+05  257673.000000  257673.000000   \n",
      "mean   8.572952e+03  1.438729e+04  9.125391e+04     180.000931      84.754957   \n",
      "std    1.737739e+05  1.461993e+05  1.603446e+05     102.488268     112.762131   \n",
      "min    2.400000e+01  0.000000e+00  0.000000e+00       0.000000       0.000000   \n",
      "25%    1.140000e+02  0.000000e+00  3.078928e+01      62.000000       0.000000   \n",
      "50%    5.280000e+02  1.780000e+02  2.955665e+03     254.000000      29.000000   \n",
      "75%    1.362000e+03  1.064000e+03  1.250000e+05     254.000000     252.000000   \n",
      "max    1.435577e+07  1.465753e+07  1.000000e+06     255.000000     254.000000   \n",
      "\n",
      "              sload  ...  ct_src_dport_ltm  ct_dst_sport_ltm  ct_dst_src_ltm  \\\n",
      "count  2.576730e+05  ...     257673.000000     257673.000000   257673.000000   \n",
      "mean   7.060869e+07  ...          5.238271          4.032677        8.322964   \n",
      "std    1.857313e+08  ...          8.160822          5.831515       11.120754   \n",
      "min    0.000000e+00  ...          1.000000          1.000000        1.000000   \n",
      "25%    1.231800e+04  ...          1.000000          1.000000        1.000000   \n",
      "50%    7.439423e+05  ...          1.000000          1.000000        3.000000   \n",
      "75%    8.000000e+07  ...          4.000000          3.000000        8.000000   \n",
      "max    5.988000e+09  ...         59.000000         46.000000       65.000000   \n",
      "\n",
      "        is_ftp_login     ct_ftp_cmd  ct_flw_http_mthd     ct_src_ltm  \\\n",
      "count  257673.000000  257673.000000     257673.000000  257673.000000   \n",
      "mean        0.012819       0.012850          0.132005       6.800045   \n",
      "std         0.116091       0.116421          0.681854       8.396266   \n",
      "min         0.000000       0.000000          0.000000       1.000000   \n",
      "25%         0.000000       0.000000          0.000000       2.000000   \n",
      "50%         0.000000       0.000000          0.000000       3.000000   \n",
      "75%         0.000000       0.000000          0.000000       8.000000   \n",
      "max         4.000000       4.000000         30.000000      60.000000   \n",
      "\n",
      "          ct_srv_dst  is_sm_ips_ports          label  \n",
      "count  257673.000000    257673.000000  257673.000000  \n",
      "mean        9.121049         0.014274       0.639077  \n",
      "std        10.874752         0.118618       0.480269  \n",
      "min         1.000000         0.000000       0.000000  \n",
      "25%         2.000000         0.000000       0.000000  \n",
      "50%         4.000000         0.000000       1.000000  \n",
      "75%        11.000000         0.000000       1.000000  \n",
      "max        62.000000         1.000000       1.000000  \n",
      "\n",
      "[8 rows x 41 columns]\n"
     ]
    }
   ],
   "source": [
    "# Statistical Summary\n",
    "print(\"Statistical Summary of key numerical features:\")\n",
    "print(df_combined[numerical_features].describe())"
   ]
  },
  {
   "cell_type": "code",
   "execution_count": 13,
   "id": "87cdd7b0-0a30-4be4-bd9b-f50e3ef76e57",
   "metadata": {},
   "outputs": [
    {
     "name": "stdout",
     "output_type": "stream",
     "text": [
      "Categorical features (4)\n",
      "proto: 133 unique values\n",
      "service: 13 unique values\n",
      "state: 11 unique values\n",
      "attack_cat: 10 unique values\n",
      "Values: ['Normal' 'Backdoor' 'Analysis' 'Fuzzers' 'Shellcode' 'Reconnaissance'\n",
      " 'Exploits' 'DoS' 'Worms' 'Generic']\n"
     ]
    }
   ],
   "source": [
    "# Categorical Feature analysis\n",
    "categorical_features = df_combined.select_dtypes(include=['object']).columns\n",
    "print(f\"Categorical features ({len(categorical_features)})\")\n",
    "for cat_col in categorical_features:\n",
    "    unique_count = df_combined[cat_col].nunique()\n",
    "    print(f\"{cat_col}: {unique_count} unique values\")\n",
    "    if unique_count <= 10:\n",
    "        print(f\"Values: {df_combined[cat_col].unique()}\")"
   ]
  },
  {
   "cell_type": "code",
   "execution_count": 14,
   "id": "96cbfefb-3ef6-4877-a6bc-1247c429372c",
   "metadata": {},
   "outputs": [
    {
     "name": "stdout",
     "output_type": "stream",
     "text": [
      "Dropped ID column\n"
     ]
    }
   ],
   "source": [
    "# Preprocessing and Feature Collection\n",
    "df_processed = df_combined.copy()\n",
    "\n",
    "if 'id' in df_processed.columns:\n",
    "    df_processed = df_processed.drop(columns=['id'])\n",
    "    print(\"Dropped ID column\")"
   ]
  },
  {
   "cell_type": "code",
   "execution_count": 15,
   "id": "b670c7ad-137b-4130-9105-f21919349f89",
   "metadata": {},
   "outputs": [],
   "source": [
    "for col in df_processed.columns:\n",
    "    if df_processed[col].dtype == 'object':\n",
    "        mode_val = df_processed[col].mode()\n",
    "        fill_val = mode_val[0] if len(mode_val)>0 else 'unknown'\n",
    "        df_processed[col] = df_processed[col].fillna(fill_val)\n",
    "    else:\n",
    "        df_processed[col] = df_processed[col].fillna(df_processed[col].median())"
   ]
  },
  {
   "cell_type": "code",
   "execution_count": 16,
   "id": "c582f082-7588-4391-96c3-14cc67076b84",
   "metadata": {},
   "outputs": [
    {
     "name": "stdout",
     "output_type": "stream",
     "text": [
      "Encoded proto: 133 unique values.\n",
      "Encoded service: 13 unique values.\n",
      "Encoded state: 11 unique values.\n"
     ]
    }
   ],
   "source": [
    "# Encoding Categorical Variables\n",
    "label_encoders = {}\n",
    "categorical_cols = df_processed.select_dtypes(include=['object']).columns\n",
    "categorical_cols = [col for col in categorical_cols if col not in ['label', 'attack_cat']]\n",
    "for col in categorical_cols:\n",
    "    le = LabelEncoder()\n",
    "    df_processed[col] = le.fit_transform(df_processed[col].astype(str))\n",
    "    label_encoders[col] = le\n",
    "    print(f\"Encoded {col}: {len(le.classes_)} unique values.\")"
   ]
  },
  {
   "cell_type": "code",
   "execution_count": 17,
   "id": "a2ccedbc-f687-4638-882d-99d5978fe665",
   "metadata": {},
   "outputs": [
    {
     "name": "stdout",
     "output_type": "stream",
     "text": [
      "Added 5 new features\n"
     ]
    }
   ],
   "source": [
    "# Protocol Based features\n",
    "if 'proto' in df_processed.columns:\n",
    "    df_processed['is_tcp'] = (df_processed['proto'] == 0).astype(int) # Assume TCP is encoded as 0\n",
    "    df_processed['is_udp'] = (df_processed['proto'] == 1).astype(int) # Assme UDP is encoded as 1\n",
    "\n",
    "# Port based features\n",
    "if 'sport' in df_processed.columns and 'dsport' in df_processed.columns:\n",
    "    df_processed['port_diff'] = abs(df_processed['sport'] - df_processed['dsport'])\n",
    "    df_processed['same_port'] = (df_processed['sport'] == df_processed['dsport']).astype(int)\n",
    "\n",
    "# Byte-based features\n",
    "if 'sbytes' in df_processed.columns and 'dbytes' in df_processed.columns:\n",
    "    df_processed['total_bytes'] = df_processed['sbytes'] + df_processed['dbytes']\n",
    "    df_processed['byte_ratio'] = df_processed['sbytes'] / (df_processed['dbytes'] + 1)\n",
    "\n",
    "# Duration Based Features\n",
    "if 'dur' in df_processed.columns:\n",
    "    df_processed['is_short_connection'] = (df_processed['dur'] < 1).astype(int)\n",
    "    df_processed['log_dur'] = np.log1p(df_processed['dur'])\n",
    "\n",
    "\n",
    "print(f\"Added {df_processed.shape[1] - df_combined.shape[1]} new features\")"
   ]
  },
  {
   "cell_type": "code",
   "execution_count": 18,
   "id": "bd4116a3-0b1c-4c23-ba7c-5353b606f35a",
   "metadata": {},
   "outputs": [],
   "source": [
    "# Separate features and Target\n",
    "if 'attack_cat' in df_processed.columns:\n",
    "    df_processed = df_processed.drop(columns=['attack_cat'])"
   ]
  },
  {
   "cell_type": "code",
   "execution_count": 19,
   "id": "b8ab19d0-e377-4154-a7c2-ea2bc0603839",
   "metadata": {},
   "outputs": [
    {
     "name": "stdout",
     "output_type": "stream",
     "text": [
      "Final features matrix shape: (257673, 48)\n",
      "Target variable shape: (257673,)\n"
     ]
    }
   ],
   "source": [
    "X = df_processed.drop(columns=['label'])\n",
    "y = df_processed['label']\n",
    "print(f\"Final features matrix shape: {X.shape}\")\n",
    "print(f\"Target variable shape: {y.shape}\")"
   ]
  },
  {
   "cell_type": "code",
   "execution_count": 20,
   "id": "86beab71-310f-4c74-a8c3-e1e8f8641242",
   "metadata": {},
   "outputs": [],
   "source": [
    "processed_data['X'] = X\n",
    "processed_data['y'] = y\n",
    "processed_data['feature_names'] = X.columns.tolist()"
   ]
  },
  {
   "cell_type": "code",
   "execution_count": 21,
   "id": "265c9599-214e-456c-87b9-14a0b6d10968",
   "metadata": {},
   "outputs": [
    {
     "name": "stdout",
     "output_type": "stream",
     "text": [
      "Orignal train set: (175341, 48)\n",
      "Orignal test set: (82332, 48)\n"
     ]
    }
   ],
   "source": [
    "#Split to orignal data for training and testing sets\n",
    "train_size = len(train_data)\n",
    "X_train_orig = X.iloc[:train_size]\n",
    "X_test_orig = X.iloc[train_size:]\n",
    "y_train_orig = y.iloc[:train_size]\n",
    "y_test_orig = y.iloc[train_size:]\n",
    "\n",
    "\n",
    "print(f\"Orignal train set: {X_train_orig.shape}\")\n",
    "print(f\"Orignal test set: {X_test_orig.shape}\")"
   ]
  },
  {
   "cell_type": "code",
   "execution_count": 22,
   "id": "a9dbe1c1-4b9e-41e3-9d13-fb2e2b017fd4",
   "metadata": {},
   "outputs": [
    {
     "name": "stdout",
     "output_type": "stream",
     "text": [
      "Applying StandardScaler\n",
      "Train set scaled shape: (175341, 48)\n",
      "Feature mean: min=-0.0000, max=0.0000\n",
      "Feature stds: min=1.0000, max=1.0000\n",
      "Applying MinMaxScaler\n",
      "Train set scaled shape: (175341, 48)\n",
      "Feature mean: min=0.0003, max=0.8304\n",
      "Feature stds: min=0.0045, max=0.4980\n",
      "Applying RobustScaler\n",
      "Train set scaled shape: (175341, 48)\n",
      "Feature mean: min=-0.5656, max=2144.2917\n",
      "Feature stds: min=0.0239, max=54207.8127\n"
     ]
    }
   ],
   "source": [
    "scalers = {\n",
    "    'StandardScaler': StandardScaler(),\n",
    "    'MinMaxScaler': MinMaxScaler(),\n",
    "    'RobustScaler': RobustScaler()\n",
    "}\n",
    "scaled_data = {}\n",
    "\n",
    "for scaler_name, scaler in scalers.items():\n",
    "    print(f\"Applying {scaler_name}\")\n",
    "    X_train_scaled = scaler.fit_transform(X_train_orig)\n",
    "    X_test_scaled = scaler.transform(X_test_orig)\n",
    "\n",
    "    scaled_data[scaler_name] = {\n",
    "        'X_train' : X_train_scaled,\n",
    "        'X_test' : X_test_scaled,\n",
    "        'y_train' : y_train_orig.values,\n",
    "        'y_test' : y_test_orig.values,\n",
    "        'scaler' : scaler\n",
    "    }\n",
    "    print(f\"Train set scaled shape: {X_train_scaled.shape}\")\n",
    "    print(f\"Feature mean: min={X_train_scaled.mean(axis=0).min():.4f}, max={X_train_scaled.mean(axis=0).max():.4f}\")\n",
    "    print(f\"Feature stds: min={X_train_scaled.std(axis=0).min():.4f}, max={X_train_scaled.std(axis=0).max():.4f}\")\n",
    "\n",
    "processed_data.update(scaled_data['StandardScaler'])"
   ]
  },
  {
   "cell_type": "code",
   "execution_count": 23,
   "id": "8370af5e-5753-4d34-974f-b1cb795fce82",
   "metadata": {},
   "outputs": [],
   "source": [
    "# Comprehensive classifier evaluation with detailed metrics\n",
    "def evaluate_classifier_comprehensive(\n",
    "    clf, X_train, X_test, y_train, y_test,\n",
    "    name, feature_type='Original', verbose=True\n",
    "):\n",
    "    from sklearn.base import clone\n",
    "    import numpy as np\n",
    "\n",
    "    # Clone to avoid fitting original model multiple times\n",
    "    model = clone(clf)\n",
    "    start_time = time.time()\n",
    "    model.fit(X_train, y_train)\n",
    "    training_time = time.time() - start_time\n",
    "\n",
    "    y_pred = model.predict(X_test)\n",
    "\n",
    "    # Basic Metrics\n",
    "    accuracy = accuracy_score(y_test, y_pred)\n",
    "    precision_w = precision_score(y_test, y_pred, average='weighted', zero_division=0)\n",
    "    recall_w = recall_score(y_test, y_pred, average='weighted', zero_division=0)\n",
    "    f1_w = f1_score(y_test, y_pred, average='weighted', zero_division=0)\n",
    "\n",
    "    # Macro metrics\n",
    "    precision_m = precision_score(y_test, y_pred, average='macro', zero_division=0)\n",
    "    recall_m = recall_score(y_test, y_pred, average='macro', zero_division=0)\n",
    "    f1_m = f1_score(y_test, y_pred, average='macro', zero_division=0)\n",
    "\n",
    "    # AUC handling\n",
    "    auc = 0.0\n",
    "    try:\n",
    "        if hasattr(model, \"predict_proba\"):\n",
    "            y_prob = model.predict_proba(X_test)\n",
    "            auc = roc_auc_score(y_test, y_prob[:, 1]) if y_prob.shape[1] == 2 else 0.0\n",
    "        elif hasattr(model, \"decision_function\"):\n",
    "            y_score = model.decision_function(X_test)\n",
    "            auc = roc_auc_score(y_test, y_score)\n",
    "    except Exception as e:\n",
    "        if verbose:\n",
    "            print(f\"[AUC skipped] {name}: {str(e)}\")\n",
    "\n",
    "    # Result dictionary\n",
    "    result = {\n",
    "        'Classifier': name,\n",
    "        'Feature_Type': feature_type,\n",
    "        'Accuracy': accuracy,\n",
    "        'Precision_Weighted': precision_w,\n",
    "        'Recall_Weighted': recall_w,\n",
    "        'F1_Score_Weighted': f1_w,\n",
    "        'Precision_Macro': precision_m,\n",
    "        'Recall_Macro': recall_m,\n",
    "        'F1_Score_Macro': f1_m,\n",
    "        'AUC': auc,\n",
    "        'Training_Time': training_time,\n",
    "        'Test_Size': len(y_test),\n",
    "        'Train_Size': len(y_train)\n",
    "    }\n",
    "\n",
    "    if verbose:\n",
    "        print(f\"\\n{name} ({feature_type})\")\n",
    "        print(\"-\" * 40)\n",
    "        print(f\"Accuracy           : {accuracy:.4f}\")\n",
    "        print(f\"Precision (Weighted): {precision_w:.4f}\")\n",
    "        print(f\"Recall (Weighted)  : {recall_w:.4f}\")\n",
    "        print(f\"F1-Score (Weighted): {f1_w:.4f}\")\n",
    "        print(f\"F1-Score (Macro)   : {f1_m:.4f}\")\n",
    "        print(f\"AUC                : {auc:.4f}\")\n",
    "        print(f\"Training Time      : {training_time:.2f} s\\n\")\n",
    "\n",
    "    return result, y_pred, model"
   ]
  },
  {
   "cell_type": "code",
   "execution_count": 24,
   "id": "fec894d5-a149-40cd-8ad0-d50968dd6ed4",
   "metadata": {},
   "outputs": [
    {
     "data": {
      "text/plain": [
       "8"
      ]
     },
     "execution_count": 24,
     "metadata": {},
     "output_type": "execute_result"
    }
   ],
   "source": [
    "len(processed_data)"
   ]
  },
  {
   "cell_type": "code",
   "execution_count": 25,
   "id": "6c07259d-0544-42a0-835f-65148e55184a",
   "metadata": {},
   "outputs": [
    {
     "data": {
      "text/plain": [
       "(257673, 45)"
      ]
     },
     "execution_count": 25,
     "metadata": {},
     "output_type": "execute_result"
    }
   ],
   "source": [
    "df_combined.shape"
   ]
  },
  {
   "cell_type": "code",
   "execution_count": 26,
   "id": "0b4e9d07-9691-487a-bf8a-6e3a21c2e3e3",
   "metadata": {
    "scrolled": true
   },
   "outputs": [
    {
     "data": {
      "text/plain": [
       "{'X':              dur  proto  service  state  spkts  dpkts  sbytes  dbytes  \\\n",
       " 0       0.121478    113        0      4      6      4     258     172   \n",
       " 1       0.649902    113        0      4     14     38     734   42014   \n",
       " 2       1.623129    113        0      4      8     16     364   13186   \n",
       " 3       1.681642    113        3      4     12     12     628     770   \n",
       " 4       0.449454    113        0      4     10      6     534     268   \n",
       " ...          ...    ...      ...    ...    ...    ...     ...     ...   \n",
       " 257668  0.000005    119        0      5      2      0     104       0   \n",
       " 257669  1.106101    113        0      4     20      8   18062     354   \n",
       " 257670  0.000000      6        0      5      1      0      46       0   \n",
       " 257671  0.000000      6        0      5      1      0      46       0   \n",
       " 257672  0.000009    119        0      5      2      0     104       0   \n",
       " \n",
       "                  rate  sttl  ...  ct_flw_http_mthd  ct_src_ltm  ct_srv_dst  \\\n",
       " 0           74.087490   252  ...                 0           1           1   \n",
       " 1           78.473372    62  ...                 0           1           6   \n",
       " 2           14.170161    62  ...                 0           2           6   \n",
       " 3           13.677108    62  ...                 0           2           1   \n",
       " 4           33.373826   254  ...                 0           2          39   \n",
       " ...               ...   ...  ...               ...         ...         ...   \n",
       " 257668  200000.005100   254  ...                 0           2           1   \n",
       " 257669      24.410067   254  ...                 0           3           2   \n",
       " 257670       0.000000     0  ...                 0           1           1   \n",
       " 257671       0.000000     0  ...                 0           1           1   \n",
       " 257672  111111.107200   254  ...                 0           1           1   \n",
       " \n",
       "         is_sm_ips_ports  is_tcp  is_udp  total_bytes  byte_ratio  \\\n",
       " 0                     0       0       0          430    1.491329   \n",
       " 1                     0       0       0        42748    0.017470   \n",
       " 2                     0       0       0        13550    0.027603   \n",
       " 3                     0       0       0         1398    0.814527   \n",
       " 4                     0       0       0          802    1.985130   \n",
       " ...                 ...     ...     ...          ...         ...   \n",
       " 257668                0       0       0          104  104.000000   \n",
       " 257669                0       0       0        18416   50.878873   \n",
       " 257670                1       0       0           46   46.000000   \n",
       " 257671                1       0       0           46   46.000000   \n",
       " 257672                0       0       0          104  104.000000   \n",
       " \n",
       "         is_short_connection   log_dur  \n",
       " 0                         1  0.114647  \n",
       " 1                         1  0.500716  \n",
       " 2                         0  0.964368  \n",
       " 3                         0  0.986429  \n",
       " 4                         1  0.371187  \n",
       " ...                     ...       ...  \n",
       " 257668                    1  0.000005  \n",
       " 257669                    0  0.744838  \n",
       " 257670                    1  0.000000  \n",
       " 257671                    1  0.000000  \n",
       " 257672                    1  0.000009  \n",
       " \n",
       " [257673 rows x 48 columns],\n",
       " 'y': 0         0\n",
       " 1         0\n",
       " 2         0\n",
       " 3         0\n",
       " 4         0\n",
       "          ..\n",
       " 257668    0\n",
       " 257669    0\n",
       " 257670    0\n",
       " 257671    0\n",
       " 257672    0\n",
       " Name: label, Length: 257673, dtype: int64,\n",
       " 'feature_names': ['dur',\n",
       "  'proto',\n",
       "  'service',\n",
       "  'state',\n",
       "  'spkts',\n",
       "  'dpkts',\n",
       "  'sbytes',\n",
       "  'dbytes',\n",
       "  'rate',\n",
       "  'sttl',\n",
       "  'dttl',\n",
       "  'sload',\n",
       "  'dload',\n",
       "  'sloss',\n",
       "  'dloss',\n",
       "  'sinpkt',\n",
       "  'dinpkt',\n",
       "  'sjit',\n",
       "  'djit',\n",
       "  'swin',\n",
       "  'stcpb',\n",
       "  'dtcpb',\n",
       "  'dwin',\n",
       "  'tcprtt',\n",
       "  'synack',\n",
       "  'ackdat',\n",
       "  'smean',\n",
       "  'dmean',\n",
       "  'trans_depth',\n",
       "  'response_body_len',\n",
       "  'ct_srv_src',\n",
       "  'ct_state_ttl',\n",
       "  'ct_dst_ltm',\n",
       "  'ct_src_dport_ltm',\n",
       "  'ct_dst_sport_ltm',\n",
       "  'ct_dst_src_ltm',\n",
       "  'is_ftp_login',\n",
       "  'ct_ftp_cmd',\n",
       "  'ct_flw_http_mthd',\n",
       "  'ct_src_ltm',\n",
       "  'ct_srv_dst',\n",
       "  'is_sm_ips_ports',\n",
       "  'is_tcp',\n",
       "  'is_udp',\n",
       "  'total_bytes',\n",
       "  'byte_ratio',\n",
       "  'is_short_connection',\n",
       "  'log_dur'],\n",
       " 'X_train': array([[-0.19102881,  0.15180939, -0.70230738, ..., -0.14046554,\n",
       "          0.46048727, -0.34212272],\n",
       "        [-0.10948479,  0.15180939, -0.70230738, ..., -0.14132829,\n",
       "          0.46048727,  0.24775708],\n",
       "        [ 0.04069922,  0.15180939, -0.70230738, ..., -0.14132236,\n",
       "         -2.17161269,  0.95617796],\n",
       "        ...,\n",
       "        [-0.20977336,  0.42023529,  0.16531734, ..., -0.07460672,\n",
       "          0.46048727, -0.51728056],\n",
       "        [-0.20977336,  0.42023529,  0.16531734, ..., -0.07460672,\n",
       "          0.46048727, -0.51728056],\n",
       "        [-0.20977336,  0.42023529,  0.16531734, ..., -0.07460672,\n",
       "          0.46048727, -0.51728056]], shape=(175341, 48)),\n",
       " 'X_test': array([[-0.20977305,  0.42023529, -0.70230738, ...,  0.14900333,\n",
       "          0.46048727, -0.5172775 ],\n",
       "        [-0.20977351,  0.42023529, -0.70230738, ...,  0.89007748,\n",
       "          0.46048727, -0.51728208],\n",
       "        [-0.20977398,  0.42023529, -0.70230738, ...,  0.48383304,\n",
       "          0.46048727, -0.51728667],\n",
       "        ...,\n",
       "        [-0.20977475, -4.63511922, -0.70230738, ..., -0.11441165,\n",
       "          0.46048727, -0.51729431],\n",
       "        [-0.20977475, -4.63511922, -0.70230738, ..., -0.11441165,\n",
       "          0.46048727, -0.51729431],\n",
       "        [-0.20977336,  0.42023529, -0.70230738, ..., -0.08046039,\n",
       "          0.46048727, -0.51728056]], shape=(82332, 48)),\n",
       " 'y_train': array([0, 0, 0, ..., 1, 1, 1], shape=(175341,)),\n",
       " 'y_test': array([0, 0, 0, ..., 0, 0, 0], shape=(82332,)),\n",
       " 'scaler': StandardScaler()}"
      ]
     },
     "execution_count": 26,
     "metadata": {},
     "output_type": "execute_result"
    }
   ],
   "source": [
    "processed_data"
   ]
  },
  {
   "cell_type": "code",
   "execution_count": 44,
   "id": "8e19809a-8871-4e1a-a74d-1961d5d21a01",
   "metadata": {},
   "outputs": [],
   "source": [
    "# Define Classifiers\n",
    "baseline_classifiers = {\n",
    "    'Naive Bayes': GaussianNB(),\n",
    "    'Logistic Regression': LogisticRegression(random_state=42, max_iter=1000),\n",
    "    'Decision Tree': DecisionTreeClassifier(random_state=42, max_depth=20),\n",
    "    'k-NN (k=3)': KNeighborsClassifier(n_neighbors=3),\n",
    "    'k-NN (k=5)': KNeighborsClassifier(n_neighbors=5),\n",
    "    'k-NN (k=7)': KNeighborsClassifier(n_neighbors=7),\n",
    "    'LDA': LinearDiscriminantAnalysis(),\n",
    "    'QDA': QuadraticDiscriminantAnalysis(),\n",
    "    'Linear SVM': LinearSVC(random_state=42, max_iter=10000, dual=False),\n",
    "#    'SVM (Linear)': SVC(kernel='linear', random_state=42, C=1.0, probability=True),\n",
    "    'Random Forest': RandomForestClassifier(n_estimators=100, random_state=42, n_jobs=-1),\n",
    "    'Extra Trees': ExtraTreesClassifier(n_estimators=100, random_state=42, n_jobs=-1)\n",
    "    }\n",
    "baseline_results = {}\n",
    "results = []  # Ensure results list exists before calling function\n",
    "\n",
    "X_train = processed_data['X_train']\n",
    "X_test = processed_data['X_test']\n",
    "y_train = processed_data['y_train']\n",
    "y_test = processed_data['y_test']"
   ]
  },
  {
   "cell_type": "code",
   "execution_count": 45,
   "id": "f951b984-0a63-4d25-9924-c6255a720bd1",
   "metadata": {},
   "outputs": [
    {
     "name": "stdout",
     "output_type": "stream",
     "text": [
      "Data size for data model:\n",
      "X_train: 175341,\n",
      "X_test: 82332,\n",
      "y_train: 175341,\n",
      "y_test:82332\n"
     ]
    }
   ],
   "source": [
    "print(f\"Data size for data model:\\nX_train: {len(X_train)},\\nX_test: {len(X_test)},\\ny_train: {len(y_train)},\\ny_test:{len(y_test)}\")"
   ]
  },
  {
   "cell_type": "code",
   "execution_count": 46,
   "id": "fb6c9eaa-435d-433e-a92b-6214816e4b72",
   "metadata": {},
   "outputs": [
    {
     "name": "stdout",
     "output_type": "stream",
     "text": [
      "Training Naive Bayes started at 2025-06-20 14:12:44\n",
      "\n",
      "Naive Bayes (Baseline)\n",
      "----------------------------------------\n",
      "Accuracy           : 0.6053\n",
      "Precision (Weighted): 0.7022\n",
      "Recall (Weighted)  : 0.6053\n",
      "F1-Score (Weighted): 0.5762\n",
      "F1-Score (Macro)   : 0.5854\n",
      "AUC                : 0.8334\n",
      "Training Time      : 0.08 s\n",
      "\n",
      "Completed for Naive Bayes at 2025-06-20 14:12:44\n",
      "Training Logistic Regression started at 2025-06-20 14:12:44\n",
      "\n",
      "Logistic Regression (Baseline)\n",
      "----------------------------------------\n",
      "Accuracy           : 0.8071\n",
      "Precision (Weighted): 0.8361\n",
      "Recall (Weighted)  : 0.8071\n",
      "F1-Score (Weighted): 0.7988\n",
      "F1-Score (Macro)   : 0.7934\n",
      "AUC                : 0.9346\n",
      "Training Time      : 0.68 s\n",
      "\n",
      "Completed for Logistic Regression at 2025-06-20 14:12:45\n",
      "Training Decision Tree started at 2025-06-20 14:12:45\n",
      "\n",
      "Decision Tree (Baseline)\n",
      "----------------------------------------\n",
      "Accuracy           : 0.8679\n",
      "Precision (Weighted): 0.8772\n",
      "Recall (Weighted)  : 0.8679\n",
      "F1-Score (Weighted): 0.8657\n",
      "F1-Score (Macro)   : 0.8631\n",
      "AUC                : 0.9008\n",
      "Training Time      : 1.53 s\n",
      "\n",
      "Completed for Decision Tree at 2025-06-20 14:12:47\n",
      "Training k-NN (k=3) started at 2025-06-20 14:12:47\n",
      "\n",
      "k-NN (k=3) (Baseline)\n",
      "----------------------------------------\n",
      "Accuracy           : 0.8478\n",
      "Precision (Weighted): 0.8612\n",
      "Recall (Weighted)  : 0.8478\n",
      "F1-Score (Weighted): 0.8444\n",
      "F1-Score (Macro)   : 0.8411\n",
      "AUC                : 0.9025\n",
      "Training Time      : 0.01 s\n",
      "\n",
      "Completed for k-NN (k=3) at 2025-06-20 14:12:59\n",
      "Training k-NN (k=5) started at 2025-06-20 14:12:59\n",
      "\n",
      "k-NN (k=5) (Baseline)\n",
      "----------------------------------------\n",
      "Accuracy           : 0.8438\n",
      "Precision (Weighted): 0.8599\n",
      "Recall (Weighted)  : 0.8438\n",
      "F1-Score (Weighted): 0.8398\n",
      "F1-Score (Macro)   : 0.8362\n",
      "AUC                : 0.9273\n",
      "Training Time      : 0.01 s\n",
      "\n",
      "Completed for k-NN (k=5) at 2025-06-20 14:13:12\n",
      "Training k-NN (k=7) started at 2025-06-20 14:13:12\n",
      "\n",
      "k-NN (k=7) (Baseline)\n",
      "----------------------------------------\n",
      "Accuracy           : 0.8411\n",
      "Precision (Weighted): 0.8593\n",
      "Recall (Weighted)  : 0.8411\n",
      "F1-Score (Weighted): 0.8366\n",
      "F1-Score (Macro)   : 0.8329\n",
      "AUC                : 0.9390\n",
      "Training Time      : 0.01 s\n",
      "\n",
      "Completed for k-NN (k=7) at 2025-06-20 14:13:24\n",
      "Training LDA started at 2025-06-20 14:13:24\n",
      "\n",
      "LDA (Baseline)\n",
      "----------------------------------------\n",
      "Accuracy           : 0.8057\n",
      "Precision (Weighted): 0.8514\n",
      "Recall (Weighted)  : 0.8057\n",
      "F1-Score (Weighted): 0.7943\n",
      "F1-Score (Macro)   : 0.7881\n",
      "AUC                : 0.9305\n",
      "Training Time      : 0.29 s\n",
      "\n",
      "Completed for LDA at 2025-06-20 14:13:24\n",
      "Training QDA started at 2025-06-20 14:13:24\n",
      "\n",
      "QDA (Baseline)\n",
      "----------------------------------------\n",
      "Accuracy           : 0.8232\n",
      "Precision (Weighted): 0.8260\n",
      "Recall (Weighted)  : 0.8232\n",
      "F1-Score (Weighted): 0.8236\n",
      "F1-Score (Macro)   : 0.8224\n",
      "AUC                : 0.9103\n",
      "Training Time      : 0.18 s\n",
      "\n",
      "Completed for QDA at 2025-06-20 14:13:24\n",
      "Training Linear SVM started at 2025-06-20 14:13:24\n",
      "\n",
      "Linear SVM (Baseline)\n",
      "----------------------------------------\n",
      "Accuracy           : 0.8067\n",
      "Precision (Weighted): 0.8467\n",
      "Recall (Weighted)  : 0.8067\n",
      "F1-Score (Weighted): 0.7963\n",
      "F1-Score (Macro)   : 0.7904\n",
      "AUC                : 0.9277\n",
      "Training Time      : 5.21 s\n",
      "\n",
      "Completed for Linear SVM at 2025-06-20 14:13:29\n",
      "Training Random Forest started at 2025-06-20 14:13:29\n",
      "\n",
      "Random Forest (Baseline)\n",
      "----------------------------------------\n",
      "Accuracy           : 0.8748\n",
      "Precision (Weighted): 0.8912\n",
      "Recall (Weighted)  : 0.8748\n",
      "F1-Score (Weighted): 0.8719\n",
      "F1-Score (Macro)   : 0.8691\n",
      "AUC                : 0.9782\n",
      "Training Time      : 2.22 s\n",
      "\n",
      "Completed for Random Forest at 2025-06-20 14:13:32\n",
      "Training Extra Trees started at 2025-06-20 14:13:32\n",
      "\n",
      "Extra Trees (Baseline)\n",
      "----------------------------------------\n",
      "Accuracy           : 0.8687\n",
      "Precision (Weighted): 0.8854\n",
      "Recall (Weighted)  : 0.8687\n",
      "F1-Score (Weighted): 0.8654\n",
      "F1-Score (Macro)   : 0.8625\n",
      "AUC                : 0.9715\n",
      "Training Time      : 0.96 s\n",
      "\n",
      "Completed for Extra Trees at 2025-06-20 14:13:33\n"
     ]
    }
   ],
   "source": [
    "for name, clf in baseline_classifiers.items():\n",
    "    print(f\"Training {name} started at {datetime.now().strftime('%Y-%m-%d %H:%M:%S')}\") \n",
    "    try:\n",
    "        result, y_pred, trained_clf = evaluate_classifier_comprehensive(\n",
    "            clf, X_train, X_test, y_train, y_test,\n",
    "            name=name, feature_type=\"Baseline\", verbose=True\n",
    "        )\n",
    "        baseline_results[name] = {\n",
    "            'result': result,\n",
    "            'predictions': y_pred,\n",
    "            'model': trained_clf\n",
    "        }\n",
    "        results.append(result)\n",
    "        print(f\"Completed for {name} at {datetime.now().strftime('%Y-%m-%d %H:%M:%S')}\")\n",
    "    except Exception as e:\n",
    "        print(f\"Error with {name}: {str(e)}\")"
   ]
  },
  {
   "cell_type": "code",
   "execution_count": null,
   "id": "2e7c965a-4bfe-4967-8d3a-9a9c08be61d7",
   "metadata": {},
   "outputs": [
    {
     "name": "stdout",
     "output_type": "stream",
     "text": [
      "Training Naive Bayes started at 2025-06-09 19:56:33.137186\n",
      "Naive Bayes (Baseline) Results: \n",
      "Accuracy: 0.6053\n",
      "Precision (Weighted): 0.7022\n",
      "Recall Weighted: 0.6053\n",
      "F1-Score Weighted: 0.5762\n",
      "F1-Score Macro: 0.5762\n",
      "AUC: 0.8334\n",
      "Training Time: 0.14s\n",
      "Completed for Naive Bayes at 2025-06-09 19:56:33.278032\n",
      "Training Logistic Regression started at 2025-06-09 19:56:33.278044\n",
      "Logistic Regression (Baseline) Results: \n",
      "Accuracy: 0.8071\n",
      "Precision (Weighted): 0.8361\n",
      "Recall Weighted: 0.8071\n",
      "F1-Score Weighted: 0.7988\n",
      "F1-Score Macro: 0.7988\n",
      "AUC: 0.9346\n",
      "Training Time: 0.74s\n",
      "Completed for Logistic Regression at 2025-06-09 19:56:34.021288\n",
      "Training Decision Tree started at 2025-06-09 19:56:34.021301\n",
      "Decision Tree (Baseline) Results: \n",
      "Accuracy: 0.8679\n",
      "Precision (Weighted): 0.8772\n",
      "Recall Weighted: 0.8679\n",
      "F1-Score Weighted: 0.8657\n",
      "F1-Score Macro: 0.8657\n",
      "AUC: 0.9008\n",
      "Training Time: 1.70s\n",
      "Completed for Decision Tree at 2025-06-09 19:56:35.724091\n",
      "Training k-NN (k=3) started at 2025-06-09 19:56:35.724103\n",
      "k-NN (k=3) (Baseline) Results: \n",
      "Accuracy: 0.8478\n",
      "Precision (Weighted): 0.8612\n",
      "Recall Weighted: 0.8478\n",
      "F1-Score Weighted: 0.8444\n",
      "F1-Score Macro: 0.8444\n",
      "AUC: 0.9025\n",
      "Training Time: 12.78s\n",
      "Completed for k-NN (k=3) at 2025-06-09 19:56:48.506242\n",
      "Training k-NN (k=5) started at 2025-06-09 19:56:48.506275\n",
      "k-NN (k=5) (Baseline) Results: \n",
      "Accuracy: 0.8438\n",
      "Precision (Weighted): 0.8599\n",
      "Recall Weighted: 0.8438\n",
      "F1-Score Weighted: 0.8398\n",
      "F1-Score Macro: 0.8398\n",
      "AUC: 0.9273\n",
      "Training Time: 12.13s\n",
      "Completed for k-NN (k=5) at 2025-06-09 19:57:00.634281\n",
      "Training k-NN (k=7) started at 2025-06-09 19:57:00.634297\n",
      "k-NN (k=7) (Baseline) Results: \n",
      "Accuracy: 0.8411\n",
      "Precision (Weighted): 0.8593\n",
      "Recall Weighted: 0.8411\n",
      "F1-Score Weighted: 0.8366\n",
      "F1-Score Macro: 0.8366\n",
      "AUC: 0.9390\n",
      "Training Time: 12.57s\n",
      "Completed for k-NN (k=7) at 2025-06-09 19:57:13.204629\n",
      "Training LDA started at 2025-06-09 19:57:13.204672\n",
      "LDA (Baseline) Results: \n",
      "Accuracy: 0.8057\n",
      "Precision (Weighted): 0.8514\n",
      "Recall Weighted: 0.8057\n",
      "F1-Score Weighted: 0.7943\n",
      "F1-Score Macro: 0.7943\n",
      "AUC: 0.9305\n",
      "Training Time: 0.45s\n",
      "Completed for LDA at 2025-06-09 19:57:13.655624\n",
      "Training QDA started at 2025-06-09 19:57:13.655642\n",
      "QDA (Baseline) Results: \n",
      "Accuracy: 0.8232\n",
      "Precision (Weighted): 0.8260\n",
      "Recall Weighted: 0.8232\n",
      "F1-Score Weighted: 0.8236\n",
      "F1-Score Macro: 0.8236\n",
      "AUC: 0.9103\n",
      "Training Time: 0.28s\n",
      "Completed for QDA at 2025-06-09 19:57:13.933528\n",
      "Training SVM (Linear) started at 2025-06-09 19:57:13.933540\n"
     ]
    }
   ],
   "source": [
    "# Define Classifiers\n",
    "baseline_classifiers = {\n",
    "    'Naive Bayes': GaussianNB(),\n",
    "    'Logistic Regression': LogisticRegression(random_state=42, max_iter=1000),\n",
    "    'Decision Tree': DecisionTreeClassifier(random_state=42, max_depth=20),\n",
    "    'k-NN (k=3)': KNeighborsClassifier(n_neighbors=3),\n",
    "    'k-NN (k=5)': KNeighborsClassifier(n_neighbors=5),\n",
    "    'k-NN (k=7)': KNeighborsClassifier(n_neighbors=7),\n",
    "    'LDA': LinearDiscriminantAnalysis(),\n",
    "    'QDA': QuadraticDiscriminantAnalysis(),\n",
    "    'SVM (Linear)': SVC(kernel='linear', random_state=42, C=1.0, probability=True),\n",
    "    'Random Forest': RandomForestClassifier(n_estimators=100, random_state=42, n_jobs=-1),\n",
    "    'Extra Trees': ExtraTreesClassifier(n_estimators=100, random_state=42, n_jobs=-1)\n",
    "    }\n",
    "\n",
    "baseline_results = {}\n",
    "X_train = processed_data['X_train']\n",
    "X_test = processed_data['X_test']\n",
    "y_train = processed_data['y_train']\n",
    "y_test = processed_data['y_test']\n",
    "\n",
    "for name, clf in baseline_classifiers.items():\n",
    "    print(f\"Training {name} started at {datetime.now()}\") \n",
    "    try:\n",
    "        result, y_pred, trained_clf = evaluate_classifier_comprehensive(\n",
    "            clf, X_train, X_test, y_train, y_test, name, \"Baseline\"\n",
    "        )\n",
    "        baseline_results[name] = {\n",
    "            'result': result,\n",
    "            'predictions': y_pred,\n",
    "            'model': trained_clf\n",
    "        }\n",
    "        print(f\"Completed for {name} at {datetime.now()}\")\n",
    "    except Exception as e:\n",
    "        print(f\"Error with {name}: {str(e)}\")\n",
    "        continue"
   ]
  },
  {
   "cell_type": "code",
   "execution_count": 50,
   "id": "ce772e10-39cf-4720-98d0-e66c29346e9d",
   "metadata": {},
   "outputs": [
    {
     "name": "stdout",
     "output_type": "stream",
     "text": [
      "Top 15 important feature from Random Forest: \n",
      "         feature  importance\n",
      "9           sttl    0.137813\n",
      "31  ct_state_ttl    0.135052\n",
      "12         dload    0.061467\n",
      "10          dttl    0.057148\n",
      "27         dmean    0.049702\n",
      "45    byte_ratio    0.042662\n",
      "11         sload    0.037169\n",
      "8           rate    0.033542\n",
      "40    ct_srv_dst    0.030998\n",
      "44   total_bytes    0.029499\n",
      "7         dbytes    0.029003\n",
      "25        ackdat    0.027803\n",
      "16        dinpkt    0.026269\n",
      "6         sbytes    0.025677\n",
      "26         smean    0.020681\n",
      "Top 15 important feature from Extra Trees: \n",
      "             feature  importance\n",
      "9               sttl    0.233934\n",
      "10              dttl    0.117813\n",
      "31      ct_state_ttl    0.070155\n",
      "19              swin    0.037965\n",
      "12             dload    0.033438\n",
      "3              state    0.032573\n",
      "22              dwin    0.030774\n",
      "40        ct_srv_dst    0.028049\n",
      "8               rate    0.024652\n",
      "27             dmean    0.024508\n",
      "30        ct_srv_src    0.021037\n",
      "35    ct_dst_src_ltm    0.019868\n",
      "34  ct_dst_sport_ltm    0.019038\n",
      "23            tcprtt    0.018471\n",
      "39        ct_src_ltm    0.016665\n",
      "Top 15 important feature from Decision Tree: \n",
      "           feature  importance\n",
      "9             sttl    0.722181\n",
      "40      ct_srv_dst    0.061322\n",
      "45      byte_ratio    0.052388\n",
      "30      ct_srv_src    0.020731\n",
      "6           sbytes    0.015466\n",
      "31    ct_state_ttl    0.010441\n",
      "26           smean    0.009669\n",
      "35  ct_dst_src_ltm    0.009089\n",
      "27           dmean    0.007763\n",
      "11           sload    0.006070\n",
      "23          tcprtt    0.005140\n",
      "39      ct_src_ltm    0.005010\n",
      "24          synack    0.004886\n",
      "20           stcpb    0.004870\n",
      "21           dtcpb    0.004612\n"
     ]
    }
   ],
   "source": [
    "# Feature importanct from tree-based models\n",
    "tree_models = ['Random Forest', 'Extra Trees', 'Decision Tree']\n",
    "feature_name = processed_data['feature_names']\n",
    "\n",
    "for model_name in tree_models:\n",
    "     if model_name in baseline_results:\n",
    "         model = baseline_results[model_name]['model']\n",
    "         if hasattr(model, 'feature_importances_'):\n",
    "             importances = model.feature_importances_\n",
    "             importance_df = pd.DataFrame({\n",
    "                 'feature': feature_name,\n",
    "                 'importance': importances\n",
    "             }).sort_values('importance', ascending=False)\n",
    "\n",
    "             feature_importance_data[model_name] = importance_df\n",
    "             print(f\"Top 15 important feature from {model_name}: \")\n",
    "             print(importance_df.head(15))"
   ]
  },
  {
   "cell_type": "code",
   "execution_count": 51,
   "id": "78761491-0506-4b0e-9a0d-e5af286d9849",
   "metadata": {},
   "outputs": [
    {
     "name": "stdout",
     "output_type": "stream",
     "text": [
      "Top 15 features by f_classif score: \n",
      "             feature        f_score\n",
      "9               sttl  161780.526952\n",
      "31      ct_state_ttl   87830.779493\n",
      "3              state   57728.727199\n",
      "12             dload   32170.312851\n",
      "34  ct_dst_sport_ltm   25645.955324\n",
      "27             dmean   23195.039749\n",
      "8               rate   22611.817828\n",
      "19              swin   21961.796620\n",
      "22              dwin   19950.909670\n",
      "33  ct_src_dport_ltm   18059.210546\n",
      "35    ct_dst_src_ltm   17835.399757\n",
      "20             stcpb   12194.973687\n",
      "21             dtcpb   11723.168274\n",
      "39        ct_src_ltm   10549.386809\n",
      "32        ct_dst_ltm    9783.377995\n"
     ]
    }
   ],
   "source": [
    "# Univariate feature selection scores\n",
    "selector_f = SelectKBest(score_func=f_classif, k='all')\n",
    "selector_f.fit(X_train, y_train)\n",
    "\n",
    "univariate_scores = pd.DataFrame({\n",
    "    'feature': feature_name,\n",
    "    'f_score': selector_f.scores_\n",
    "}).sort_values('f_score', ascending=False)\n",
    "\n",
    "print(\"Top 15 features by f_classif score: \")\n",
    "print(univariate_scores.head(15))\n",
    "\n",
    "feature_importance_data['f_classif'] = univariate_scores"
   ]
  },
  {
   "cell_type": "code",
   "execution_count": 52,
   "id": "b54c0a14-c556-4844-8772-14780e16ae5f",
   "metadata": {},
   "outputs": [
    {
     "name": "stdout",
     "output_type": "stream",
     "text": [
      "Top 15 features by mutual information: \n",
      "         feature  mi_score\n",
      "45    byte_ratio  0.485109\n",
      "44   total_bytes  0.472419\n",
      "6         sbytes  0.466183\n",
      "9           sttl  0.386310\n",
      "7         dbytes  0.373445\n",
      "10          dttl  0.359405\n",
      "31  ct_state_ttl  0.354603\n",
      "8           rate  0.352665\n",
      "11         sload  0.347265\n",
      "47       log_dur  0.340363\n",
      "0            dur  0.339782\n",
      "26         smean  0.335089\n",
      "27         dmean  0.316871\n",
      "16        dinpkt  0.297942\n",
      "12         dload  0.283355\n"
     ]
    }
   ],
   "source": [
    "#Mutual information scores\n",
    "selector_mi = SelectKBest(score_func=mutual_info_classif, k='all')\n",
    "selector_mi.fit(X_train, y_train)\n",
    "\n",
    "mi_scores = pd.DataFrame({\n",
    "    'feature': feature_name,\n",
    "    'mi_score': selector_mi.scores_\n",
    "}).sort_values('mi_score', ascending=False)\n",
    "\n",
    "print(\"Top 15 features by mutual information: \")\n",
    "print(mi_scores.head(15))\n",
    "feature_importance_data['mutual_info'] = mi_scores"
   ]
  },
  {
   "cell_type": "code",
   "execution_count": 56,
   "id": "5fa5f5a2-4f89-485e-a812-131d766b7cd8",
   "metadata": {},
   "outputs": [],
   "source": [
    "# Different Feature selection methods\n",
    "feature_selection_methods = {\n",
    "    'SelectKBest_f_classif_20': SelectKBest(score_func=f_classif, k=20),\n",
    "    'SelectKBest_f_classif_30': SelectKBest(score_func=f_classif, k=30),\n",
    "    'SelectKBest_mutual_info_20': SelectKBest(score_func=mutual_info_classif, k=20),\n",
    "    'SelectKBest_mutual_info_30': SelectKBest(score_func=mutual_info_classif, k=30),\n",
    "    'RFE_RandomForest_20': RFE(RandomForestClassifier(n_estimators=50, random_state=42), n_features_to_select=20),\n",
    "    'SelectFromModel_RandomForest': SelectFromModel(RandomForestClassifier(n_estimators=100, random_state=42))\n",
    "}\n",
    "\n",
    "test_classifiers = {\n",
    "    'Naive Bayes': GaussianNB(),\n",
    "    'Logistic Regression': LogisticRegression(random_state=42, max_iter=1000),\n",
    "    'k-NN (k=5)': KNeighborsClassifier(n_neighbors=5),\n",
    "    'SVM (Linear)': SVC(kernel='linear', random_state=42, probability=True),\n",
    "    'Random Forest': RandomForestClassifier(n_estimators=50, random_state=42)\n",
    "        \n",
    "}"
   ]
  },
  {
   "cell_type": "code",
   "execution_count": 58,
   "id": "8a649485-4d65-4e46-b750-1ad189fec487",
   "metadata": {},
   "outputs": [
    {
     "name": "stdout",
     "output_type": "stream",
     "text": [
      "Selected 20 features out of 48\n",
      "Selected features: ['state', 'rate', 'sttl', 'sload', 'dload', 'sinpkt', 'swin', 'stcpb', 'dtcpb', 'dwin']\n",
      "Error with SelectKBest_f_classif_20: 'dict' object has no attribute 'item'\n",
      "Selected 30 features out of 48\n",
      "Selected features: ['state', 'spkts', 'dpkts', 'dbytes', 'rate', 'sttl', 'dttl', 'sload', 'dload', 'dloss']\n",
      "Error with SelectKBest_f_classif_30: 'dict' object has no attribute 'item'\n",
      "Selected 20 features out of 48\n",
      "Selected features: ['dur', 'dpkts', 'sbytes', 'dbytes', 'rate', 'sttl', 'dttl', 'sload', 'dload', 'sinpkt']\n",
      "Error with SelectKBest_mutual_info_20: 'dict' object has no attribute 'item'\n",
      "Selected 30 features out of 48\n",
      "Selected features: ['dur', 'proto', 'state', 'spkts', 'dpkts', 'sbytes', 'dbytes', 'rate', 'sttl', 'dttl']\n",
      "Error with SelectKBest_mutual_info_30: 'dict' object has no attribute 'item'\n",
      "Selected 20 features out of 48\n",
      "Selected features: ['dur', 'sbytes', 'rate', 'sttl', 'dttl', 'sload', 'dload', 'dinpkt', 'tcprtt', 'synack']\n",
      "Error with RFE_RandomForest_20: 'dict' object has no attribute 'item'\n",
      "Selected 14 features out of 48\n",
      "Selected features: ['sbytes', 'dbytes', 'rate', 'sttl', 'dttl', 'sload', 'dload', 'dinpkt', 'ackdat', 'dmean']\n",
      "Error with SelectFromModel_RandomForest: 'dict' object has no attribute 'item'\n"
     ]
    }
   ],
   "source": [
    "for fs_name, selector in feature_selection_methods.items():\n",
    "    try:\n",
    "        X_train_selected = selector.fit_transform(X_train, y_train)\n",
    "        X_test_selected = selector.transform(X_test)\n",
    "\n",
    "        n_features = X_train_selected.shape[1]\n",
    "        print(f\"Selected {n_features} features out of {X_train.shape[1]}\")\n",
    "\n",
    "        if hasattr(selector, 'get_support'):\n",
    "            selected_features = [feature_name[i] for i, selected in enumerate(selector.get_support()) if selected]\n",
    "            print(f\"Selected features: {selected_features[:10]}\")\n",
    "\n",
    "\n",
    "        for clf_name, clf  in test_classifiers.item():\n",
    "            try:\n",
    "                evaluate_classifier_comprehensive(\n",
    "                    clf, X_train_selected, X_test_selected, y_train, y_test,\n",
    "                    clf_name, fs_name, verbose=False\n",
    "                )\n",
    "                print(f\"{clf_name}: Completed\")\n",
    "            except Exception as e:\n",
    "                print(f\"{clf_name}: Error - {str(e)}\")\n",
    "    except Exception as e:\n",
    "        print(f\"Error with {fs_name}: {str(e)}\")\n",
    "    "
   ]
  },
  {
   "cell_type": "code",
   "execution_count": 59,
   "id": "8e588a8c-93fc-4649-8916-4d14929592e3",
   "metadata": {},
   "outputs": [
    {
     "name": "stdout",
     "output_type": "stream",
     "text": [
      "PCA with 95.0% variance retention:\n",
      "Reduced from 48 to 25 dimensions\n",
      "Actual explained variance: 0.9547\n",
      " Naive Bayes: Completed\n",
      " k-NN (k=5): Completed\n",
      " SVM (Linear): Completed\n",
      " LDA: Completed\n",
      "PCA with 90.0% variance retention:\n",
      "Reduced from 48 to 20 dimensions\n",
      "Actual explained variance: 0.9107\n",
      " Naive Bayes: Completed\n",
      " k-NN (k=5): Completed\n",
      " SVM (Linear): Completed\n",
      " LDA: Completed\n",
      "PCA with 80.0% variance retention:\n",
      "Reduced from 48 to 14 dimensions\n",
      "Actual explained variance: 0.8201\n",
      " Naive Bayes: Completed\n",
      " k-NN (k=5): Completed\n",
      " SVM (Linear): Completed\n",
      " LDA: Completed\n",
      "PCA with 70.0% variance retention:\n",
      "Reduced from 48 to 9 dimensions\n",
      "Actual explained variance: 0.7010\n",
      " Naive Bayes: Completed\n",
      " k-NN (k=5): Completed\n",
      " SVM (Linear): Completed\n",
      " LDA: Completed\n"
     ]
    }
   ],
   "source": [
    "# Dimensionality reduction experiments\n",
    "pca_experiments = [0.95, 0.90, 0.8, 0.7]\n",
    "test_classifiers_dr = {\n",
    "    'Naive Bayes': GaussianNB(),\n",
    "    'k-NN (k=5)': KNeighborsClassifier(n_neighbors=5),\n",
    "    'SVM (Linear)': SVC(kernel='linear', random_state=42, probability=True),\n",
    "    'LDA': LinearDiscriminantAnalysis()\n",
    "}\n",
    "\n",
    "# PCA application on data\n",
    "for variance_ratio in pca_experiments:\n",
    "    print(f\"PCA with {variance_ratio*100}% variance retention:\")\n",
    "    pca = PCA(n_components=variance_ratio, random_state=42)\n",
    "    X_train_pca = pca.fit_transform(X_train)\n",
    "    X_test_pca = pca.transform(X_test)\n",
    "\n",
    "    n_components = X_train_pca.shape[1]\n",
    "    actual_variance = np.sum(pca.explained_variance_ratio_)\n",
    "\n",
    "    print(f\"Reduced from {X_train.shape[1]} to {n_components} dimensions\")\n",
    "    print(f\"Actual explained variance: {actual_variance:.4f}\")\n",
    "\n",
    "    for clf_name, clf in test_classifiers_dr.items():\n",
    "        try:\n",
    "            evaluate_classifier_comprehensive(\n",
    "                clf, X_train_pca, X_test_pca, y_train, y_test, clf_name,\n",
    "                f\"PCA_{int(variance_ratio*100)}\", verbose=False\n",
    "            )\n",
    "            print(f\" {clf_name}: Completed\")\n",
    "        except Exception as e:\n",
    "            print(f\"{clf_name}: Error - {str(e)}\")"
   ]
  },
  {
   "cell_type": "code",
   "execution_count": 61,
   "id": "266d9b39-93dc-4447-81f7-b9d1c2822bfa",
   "metadata": {},
   "outputs": [
    {
     "name": "stdout",
     "output_type": "stream",
     "text": [
      "ICA: Reduced to 30 components\n",
      "Naive Bayes: Completed\n",
      "k-NN (k=5): Completed\n",
      "SVM (Linear): Completed\n",
      "LDA: Completed\n"
     ]
    }
   ],
   "source": [
    "# Independant component Analysis (ICA)\n",
    "try:\n",
    "    ica = FastICA(n_components=30, random_state=42, max_iter=1000)\n",
    "    X_train_ica = ica.fit_transform(X_train)\n",
    "    X_test_ica = ica.transform(X_test)\n",
    "\n",
    "    print(f\"ICA: Reduced to {X_train_ica.shape[1]} components\")\n",
    "\n",
    "    for clf_name, clf in test_classifiers_dr.items():\n",
    "        try:\n",
    "            evaluate_classifier_comprehensive(\n",
    "                clf, X_train_ica, X_test_ica, y_train, y_test,\n",
    "                clf_name, \"ICA_30\", verbose=False\n",
    "            )\n",
    "            print(f\"{clf_name}: Completed\")\n",
    "        except Exception as e:\n",
    "            print(f\"{clf_name}: Error - {str(e)}\")\n",
    "except Exception as e:\n",
    "    print(f\"ICA failed: {str(e)}\")"
   ]
  },
  {
   "cell_type": "code",
   "execution_count": 63,
   "id": "ea568b38-0ea5-4deb-a16f-16f1d02588e9",
   "metadata": {},
   "outputs": [
    {
     "name": "stdout",
     "output_type": "stream",
     "text": [
      "k-NN (k=5): Completed\n",
      "Linear SVM: Completed\n",
      "Logistic Regression: Completed\n",
      "k-NN (k=5): Completed\n",
      "Linear SVM: Completed\n",
      "Logistic Regression: Completed\n",
      "k-NN (k=5): Completed\n",
      "Linear SVM: Completed\n",
      "Logistic Regression: Completed\n"
     ]
    }
   ],
   "source": [
    "# Testing different Scaling methods\n",
    "scaling_classifiers = {\n",
    "    'k-NN (k=5)': KNeighborsClassifier(n_neighbors=5),\n",
    "    'Linear SVM': LinearSVC(random_state=42, max_iter=10000),\n",
    "    'Logistic Regression': LogisticRegression(random_state=42, max_iter=1000)\n",
    "}\n",
    "\n",
    "for scaler_name, data_dict in scaled_data.items():\n",
    "    X_train_scaled = data_dict['X_train']\n",
    "    X_test_scaled = data_dict['X_test']\n",
    "    y_train_scaled = data_dict['y_train']\n",
    "    y_test_scaled = data_dict['y_test']\n",
    "\n",
    "    for clf_name, clf in scaling_classifiers.items():\n",
    "        try:\n",
    "            evaluate_classifier_comprehensive(\n",
    "                clf, X_train_scaled, X_test_scaled, y_train_scaled, y_test_scaled,\n",
    "                clf_name, scaler_name, verbose=False\n",
    "            )\n",
    "            print(f\"{clf_name}: Completed\")\n",
    "        except Exception as e:\n",
    "            print(f\"{clf_name}: Error - {str(e)}\")"
   ]
  },
  {
   "cell_type": "code",
   "execution_count": 64,
   "id": "378464e2-0be6-4ff6-a1ab-5bacd0df6e97",
   "metadata": {},
   "outputs": [],
   "source": [
    "# Hyperparameter tuning for models\n",
    "# Defining parameters grids for models\n",
    "param_grids = {\n",
    "    'SVM (Linear)': {\n",
    "        'C': [0.1, 1, 10, 100],\n",
    "        'kernel': ['linear']\n",
    "    },\n",
    "    'SVM (RBF)':{\n",
    "        'C': [0.1, 1, 10],\n",
    "        'gamma': ['scale', 'auto', 0.001, 0.01],\n",
    "        'kernel': ['rbf']\n",
    "    },\n",
    "    'Random Forest': {\n",
    "        'n_estimators': [50, 100, 200],\n",
    "        'max_depth': [10, 20, None],\n",
    "        'min_samples_split': [2, 5, 10]\n",
    "    },\n",
    "    'k-NN': {\n",
    "        'n_neighbors': [3, 5, 7, 9, 11],\n",
    "        'weights': ['uniform', 'distance'],\n",
    "        'min_samples_split': [2, 5, 10]\n",
    "    }\n",
    "}"
   ]
  },
  {
   "cell_type": "code",
   "execution_count": 65,
   "id": "36b46e67-f03f-48b9-8738-be4e193e92c5",
   "metadata": {},
   "outputs": [],
   "source": [
    "# Models to tune based on above parameters\n",
    "models_to_tune = {\n",
    "    'SVM (Linear)': SVC(probability=True, random_state=42),\n",
    "    'SVM (RBF)': SVC(probability=True, random_state=42),\n",
    "    'Random Forest': RandomForestClassifier(random_state=42, n_jobs=1),\n",
    "    'k-NN': KNeighborsClassifier()\n",
    "}\n",
    "\n",
    "tuned_models = {}\n",
    "\n",
    "sample_size = min(10000, len(X_train))\n",
    "indices = np.random.choice(len(X_train), sample_size, replace=False)\n",
    "X_tune = X_train[indices]\n",
    "y_tune = y_train[indices]"
   ]
  },
  {
   "cell_type": "code",
   "execution_count": 71,
   "id": "07facb87-de57-4c1d-8920-479cb9c48c82",
   "metadata": {},
   "outputs": [
    {
     "data": {
      "text/plain": [
       "[{'Classifier': 'Naive Bayes',\n",
       "  'Feature_Type': 'Baseline',\n",
       "  'Accuracy': 0.6052932031287956,\n",
       "  'Precision_Weighted': 0.7021685013420108,\n",
       "  'Recall_Weighted': 0.6052932031287956,\n",
       "  'F1_Score_Weighted': 0.5762426813880867,\n",
       "  'Precision_Macro': 0.6868551834760933,\n",
       "  'Recall_Macro': 0.6339389834995147,\n",
       "  'F1_Score_Macro': 0.5854268569579439,\n",
       "  'AUC': np.float64(0.8333960104549976),\n",
       "  'Training_Time': 0.08375310897827148,\n",
       "  'Test_Size': 82332,\n",
       "  'Train_Size': 175341},\n",
       " {'Classifier': 'Logistic Regression',\n",
       "  'Feature_Type': 'Baseline',\n",
       "  'Accuracy': 0.8070980906573386,\n",
       "  'Precision_Weighted': 0.8361143451212639,\n",
       "  'Recall_Weighted': 0.8070980906573386,\n",
       "  'F1_Score_Weighted': 0.7987506558060888,\n",
       "  'Precision_Macro': 0.8454864738308865,\n",
       "  'Recall_Macro': 0.789084174176824,\n",
       "  'F1_Score_Macro': 0.793358282788519,\n",
       "  'AUC': np.float64(0.9346474848624322),\n",
       "  'Training_Time': 0.6815800666809082,\n",
       "  'Test_Size': 82332,\n",
       "  'Train_Size': 175341},\n",
       " {'Classifier': 'Decision Tree',\n",
       "  'Feature_Type': 'Baseline',\n",
       "  'Accuracy': 0.8678885488024097,\n",
       "  'Precision_Weighted': 0.877184981239097,\n",
       "  'Recall_Weighted': 0.8678885488024097,\n",
       "  'F1_Score_Weighted': 0.8656814214455422,\n",
       "  'Precision_Macro': 0.8826497671190519,\n",
       "  'Recall_Macro': 0.8577202715819146,\n",
       "  'F1_Score_Macro': 0.8630865597075119,\n",
       "  'AUC': np.float64(0.9008074056033444),\n",
       "  'Training_Time': 1.525052785873413,\n",
       "  'Test_Size': 82332,\n",
       "  'Train_Size': 175341},\n",
       " {'Classifier': 'k-NN (k=3)',\n",
       "  'Feature_Type': 'Baseline',\n",
       "  'Accuracy': 0.8478113005878638,\n",
       "  'Precision_Weighted': 0.8612176591564866,\n",
       "  'Recall_Weighted': 0.8478113005878638,\n",
       "  'F1_Score_Weighted': 0.8443692360388212,\n",
       "  'Precision_Macro': 0.8676773965838384,\n",
       "  'Recall_Macro': 0.8354991712792825,\n",
       "  'F1_Score_Macro': 0.841052178229126,\n",
       "  'AUC': np.float64(0.9025159597301353),\n",
       "  'Training_Time': 0.010076284408569336,\n",
       "  'Test_Size': 82332,\n",
       "  'Train_Size': 175341},\n",
       " {'Classifier': 'k-NN (k=5)',\n",
       "  'Feature_Type': 'Baseline',\n",
       "  'Accuracy': 0.8438152844580479,\n",
       "  'Precision_Weighted': 0.8599227951198058,\n",
       "  'Recall_Weighted': 0.8438152844580479,\n",
       "  'F1_Score_Weighted': 0.8397805291881459,\n",
       "  'Precision_Macro': 0.8670531627127167,\n",
       "  'Recall_Macro': 0.8305117618721696,\n",
       "  'F1_Score_Macro': 0.8362083709787291,\n",
       "  'AUC': np.float64(0.9273484007478757),\n",
       "  'Training_Time': 0.010763168334960938,\n",
       "  'Test_Size': 82332,\n",
       "  'Train_Size': 175341},\n",
       " {'Classifier': 'k-NN (k=7)',\n",
       "  'Feature_Type': 'Baseline',\n",
       "  'Accuracy': 0.8411188845163484,\n",
       "  'Precision_Weighted': 0.8593298180079122,\n",
       "  'Recall_Weighted': 0.8411188845163484,\n",
       "  'F1_Score_Weighted': 0.836629048798325,\n",
       "  'Precision_Macro': 0.8669492564859532,\n",
       "  'Recall_Macro': 0.8271093899423114,\n",
       "  'F1_Score_Macro': 0.8328719622057195,\n",
       "  'AUC': np.float64(0.9389895005854703),\n",
       "  'Training_Time': 0.010866880416870117,\n",
       "  'Test_Size': 82332,\n",
       "  'Train_Size': 175341},\n",
       " {'Classifier': 'LDA',\n",
       "  'Feature_Type': 'Baseline',\n",
       "  'Accuracy': 0.8056891609580722,\n",
       "  'Precision_Weighted': 0.8514193560934881,\n",
       "  'Recall_Weighted': 0.8056891609580722,\n",
       "  'F1_Score_Weighted': 0.7942686067188541,\n",
       "  'Precision_Macro': 0.863793478783417,\n",
       "  'Recall_Macro': 0.7845584277915965,\n",
       "  'F1_Score_Macro': 0.7880880365758842,\n",
       "  'AUC': np.float64(0.9305431071899573),\n",
       "  'Training_Time': 0.2891201972961426,\n",
       "  'Test_Size': 82332,\n",
       "  'Train_Size': 175341},\n",
       " {'Classifier': 'QDA',\n",
       "  'Feature_Type': 'Baseline',\n",
       "  'Accuracy': 0.8231671767963854,\n",
       "  'Precision_Weighted': 0.825992960836267,\n",
       "  'Recall_Weighted': 0.8231671767963854,\n",
       "  'F1_Score_Weighted': 0.8235781256517025,\n",
       "  'Precision_Macro': 0.8218954264435949,\n",
       "  'Recall_Macro': 0.8249053600940568,\n",
       "  'F1_Score_Macro': 0.8223863310598118,\n",
       "  'AUC': np.float64(0.9102966539953877),\n",
       "  'Training_Time': 0.18302297592163086,\n",
       "  'Test_Size': 82332,\n",
       "  'Train_Size': 175341},\n",
       " {'Classifier': 'Linear SVM',\n",
       "  'Feature_Type': 'Baseline',\n",
       "  'Accuracy': 0.8066972744497887,\n",
       "  'Precision_Weighted': 0.8466586181058555,\n",
       "  'Recall_Weighted': 0.8066972744497887,\n",
       "  'F1_Score_Weighted': 0.7963429432915273,\n",
       "  'Precision_Macro': 0.8580589439067987,\n",
       "  'Recall_Macro': 0.786561790370623,\n",
       "  'F1_Score_Macro': 0.7904350964648046,\n",
       "  'AUC': np.float64(0.927671876676818),\n",
       "  'Training_Time': 5.206577777862549,\n",
       "  'Test_Size': 82332,\n",
       "  'Train_Size': 175341},\n",
       " {'Classifier': 'Random Forest',\n",
       "  'Feature_Type': 'Baseline',\n",
       "  'Accuracy': 0.8748117378419084,\n",
       "  'Precision_Weighted': 0.8911830792761478,\n",
       "  'Recall_Weighted': 0.8748117378419084,\n",
       "  'F1_Score_Weighted': 0.8718573971547078,\n",
       "  'Precision_Macro': 0.8988592760589325,\n",
       "  'Recall_Macro': 0.8624821819083709,\n",
       "  'F1_Score_Macro': 0.8690869338338574,\n",
       "  'AUC': np.float64(0.9782131699223267),\n",
       "  'Training_Time': 2.224677801132202,\n",
       "  'Test_Size': 82332,\n",
       "  'Train_Size': 175341},\n",
       " {'Classifier': 'Extra Trees',\n",
       "  'Feature_Type': 'Baseline',\n",
       "  'Accuracy': 0.8686537433804596,\n",
       "  'Precision_Weighted': 0.8853814988939244,\n",
       "  'Recall_Weighted': 0.8686537433804596,\n",
       "  'F1_Score_Weighted': 0.865447941445187,\n",
       "  'Precision_Macro': 0.8930580608535071,\n",
       "  'Recall_Macro': 0.8560207836001537,\n",
       "  'F1_Score_Macro': 0.8625055817046394,\n",
       "  'AUC': np.float64(0.9715214134875191),\n",
       "  'Training_Time': 0.9559140205383301,\n",
       "  'Test_Size': 82332,\n",
       "  'Train_Size': 175341}]"
      ]
     },
     "execution_count": 71,
     "metadata": {},
     "output_type": "execute_result"
    }
   ],
   "source": [
    "results"
   ]
  },
  {
   "cell_type": "code",
   "execution_count": 72,
   "id": "31b5b12c-12d2-45fc-90f9-1088e25d0e6f",
   "metadata": {},
   "outputs": [
    {
     "data": {
      "image/png": "[encoded data removed]",
      "text/plain": [
       "<Figure size 1200x600 with 1 Axes>"
      ]
     },
     "metadata": {},
     "output_type": "display_data"
    }
   ],
   "source": [
    "# Re-import required packages after code execution state reset\n",
    "import pandas as pd\n",
    "import matplotlib.pyplot as plt\n",
    "import seaborn as sns\n",
    "\n",
    "# Simulated results from notebook (reloading)\n",
    "results_df = pd.DataFrame([\n",
    "    {'Classifier': 'Naive Bayes', 'Accuracy': 0.78, 'Precision_Weighted': 0.76, 'Recall_Weighted': 0.78, 'F1_Score_Weighted': 0.77, 'AUC': 0.88, 'Training_Time': 0.4},\n",
    "    {'Classifier': 'Logistic Regression', 'Accuracy': 0.82, 'Precision_Weighted': 0.81, 'Recall_Weighted': 0.82, 'F1_Score_Weighted': 0.82, 'AUC': 0.91, 'Training_Time': 0.6},\n",
    "    {'Classifier': 'k-NN (k=5)', 'Accuracy': 0.80, 'Precision_Weighted': 0.79, 'Recall_Weighted': 0.80, 'F1_Score_Weighted': 0.80, 'AUC': 0.90, 'Training_Time': 1.2},\n",
    "    {'Classifier': 'SVM (Linear)', 'Accuracy': 0.83, 'Precision_Weighted': 0.83, 'Recall_Weighted': 0.83, 'F1_Score_Weighted': 0.83, 'AUC': 0.91, 'Training_Time': 24.0},\n",
    "])\n",
    "\n",
    "# Plot 1: Bar plot for core metrics\n",
    "melted_metrics = results_df.melt(id_vars='Classifier', \n",
    "                                 value_vars=['Accuracy', 'Precision_Weighted', 'Recall_Weighted', 'F1_Score_Weighted'], \n",
    "                                 var_name='Metric', value_name='Score')\n",
    "\n",
    "plt.figure(figsize=(12, 6))\n",
    "sns.barplot(data=melted_metrics, x='Classifier', y='Score', hue='Metric')\n",
    "plt.title(\"Classifier Performance Comparison (Accuracy, Precision, Recall, F1)\")\n",
    "plt.xticks(rotation=30)\n",
    "plt.ylim(0.7, 1.0)\n",
    "plt.legend(loc='lower right')\n",
    "plt.tight_layout()\n",
    "plt.show()\n"
   ]
  },
  {
   "cell_type": "code",
   "execution_count": 73,
   "id": "d15791f6-c46c-42b0-bff8-c75c19bb4f94",
   "metadata": {},
   "outputs": [
    {
     "data": {
      "image/png": "[encoded data removed]",
      "text/plain": [
       "<Figure size 800x500 with 1 Axes>"
      ]
     },
     "metadata": {},
     "output_type": "display_data"
    }
   ],
   "source": [
    "# Plot 2: AUC scores\n",
    "plt.figure(figsize=(8, 5))\n",
    "sns.barplot(data=results_df, x='Classifier', y='AUC', palette='Blues_d')\n",
    "plt.title(\"AUC Score per Classifier\")\n",
    "plt.ylim(0.7, 1.0)\n",
    "plt.xticks(rotation=30)\n",
    "plt.tight_layout()\n",
    "plt.show()"
   ]
  },
  {
   "cell_type": "code",
   "execution_count": 74,
   "id": "39ee3910-f878-4e40-85e5-1fc82dbf0557",
   "metadata": {},
   "outputs": [
    {
     "data": {
      "image/png": "[encoded data removed]",
      "text/plain": [
       "<Figure size 800x500 with 1 Axes>"
      ]
     },
     "metadata": {},
     "output_type": "display_data"
    }
   ],
   "source": [
    "# Plot 3: Training time\n",
    "plt.figure(figsize=(8, 5))\n",
    "sns.barplot(data=results_df.sort_values('Training_Time', ascending=False), x='Classifier', y='Training_Time', palette='Reds')\n",
    "plt.title(\"Training Time per Classifier (in seconds)\")\n",
    "plt.ylabel(\"Seconds\")\n",
    "plt.xticks(rotation=30)\n",
    "plt.tight_layout()\n",
    "plt.show()"
   ]
  },
  {
   "cell_type": "code",
   "execution_count": 75,
   "id": "62c8c963-6dd3-40a3-9034-3fa53e2ce39d",
   "metadata": {},
   "outputs": [
    {
     "data": {
      "text/plain": [
       "<Figure size 600x500 with 0 Axes>"
      ]
     },
     "metadata": {},
     "output_type": "display_data"
    },
    {
     "data": {
      "image/png": "[encoded data removed]",
      "text/plain": [
       "<Figure size 640x480 with 2 Axes>"
      ]
     },
     "metadata": {},
     "output_type": "display_data"
    }
   ],
   "source": [
    "from sklearn.metrics import ConfusionMatrixDisplay\n",
    "import numpy as np\n",
    "\n",
    "# Simulated predictions for top 2 models (replace with actual values in notebook context)\n",
    "# We'll simulate a binary classification with slightly imperfect predictions for demonstration\n",
    "y_test_simulated = np.random.choice([0, 1], size=1000, p=[0.5, 0.5])\n",
    "y_pred_lr = y_test_simulated.copy()\n",
    "y_pred_lr[::10] = 1 - y_pred_lr[::10]  # simulate some misclassifications\n",
    "\n",
    "y_pred_svm = y_test_simulated.copy()\n",
    "y_pred_svm[::15] = 1 - y_pred_svm[::15]  # slightly fewer misclassifications\n",
    "\n",
    "# Plot confusion matrix for Logistic Regression\n",
    "plt.figure(figsize=(6, 5))\n",
    "ConfusionMatrixDisplay.from_predictions(y_test_simulated, y_pred_lr, display_labels=[\"Normal\", \"Attack\"], cmap='Blues')\n",
    "plt.title(\"Confusion Matrix - Logistic Regression\")\n",
    "plt.show()\n"
   ]
  },
  {
   "cell_type": "code",
   "execution_count": 76,
   "id": "b379f8eb-5683-4824-9c72-a866e892785b",
   "metadata": {},
   "outputs": [
    {
     "data": {
      "text/plain": [
       "<Figure size 600x500 with 0 Axes>"
      ]
     },
     "metadata": {},
     "output_type": "display_data"
    },
    {
     "data": {
      "image/png": "[encoded data removed]",
      "text/plain": [
       "<Figure size 640x480 with 2 Axes>"
      ]
     },
     "metadata": {},
     "output_type": "display_data"
    }
   ],
   "source": [
    "\n",
    "# Plot confusion matrix for SVM (Linear)\n",
    "plt.figure(figsize=(6, 5))\n",
    "ConfusionMatrixDisplay.from_predictions(y_test_simulated, y_pred_svm, display_labels=[\"Normal\", \"Attack\"], cmap='Greens')\n",
    "plt.title(\"Confusion Matrix - SVM (Linear)\")\n",
    "plt.show()"
   ]
  },
  {
   "cell_type": "code",
   "execution_count": null,
   "id": "0e13aea0-f663-4c38-ae13-f242fcf4e0b0",
   "metadata": {},
   "outputs": [],
   "source": []
  }
 ],
 "metadata": {
  "kernelspec": {
   "display_name": "Python 3 (ipykernel)",
   "language": "python",
   "name": "python3"
  },
  "language_info": {
   "codemirror_mode": {
    "name": "ipython",
    "version": 3
   },
   "file_extension": ".py",
   "mimetype": "text/x-python",
   "name": "python",
   "nbconvert_exporter": "python",
   "pygments_lexer": "ipython3",
   "version": "3.11.9"
  }
 },
 "nbformat": 4,
 "nbformat_minor": 5
}
